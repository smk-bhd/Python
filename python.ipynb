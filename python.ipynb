{
 "cells": [
  {
   "cell_type": "code",
   "execution_count": 5,
   "id": "9e4a0283",
   "metadata": {},
   "outputs": [
    {
     "name": "stdout",
     "output_type": "stream",
     "text": [
      "Enter a number2\n",
      "Enter another number3\n",
      "sum of two numbers : 5\n",
      "Product of two numbers: 6\n"
     ]
    }
   ],
   "source": [
    "## Write a python program to find the sum and product of two numbers.\n",
    "\n",
    "a =int(input(\"Enter a number\"))\n",
    "b = int(input(\"Enter another number\"))\n",
    "\n",
    "sum = a + b\n",
    "product = a * b\n",
    "\n",
    "print(\"sum of two numbers :\",sum)\n",
    "print(\"Product of two numbers:\",product)"
   ]
  },
  {
   "cell_type": "code",
   "execution_count": 6,
   "id": "6f0154ed",
   "metadata": {},
   "outputs": [
    {
     "name": "stdout",
     "output_type": "stream",
     "text": [
      "Enter your first name.Samika\n",
      "Enter your last name.Bhandari\n",
      "enter your address.lokanthali\n",
      "Samika Bhandari lokanthali\n"
     ]
    }
   ],
   "source": [
    "## Write a python program to input first name, last name, and address. Print them.\n",
    "\n",
    "first_name = input(\"Enter your first name.\")\n",
    "last_name = input(\"Enter your last name.\")\n",
    "address = input(\"enter your address.\")\n",
    "\n",
    "print(first_name, last_name, address)"
   ]
  },
  {
   "cell_type": "code",
   "execution_count": 7,
   "id": "2665c412",
   "metadata": {},
   "outputs": [
    {
     "name": "stdout",
     "output_type": "stream",
     "text": [
      "Enter first number.1\n",
      "Enter second number.2\n",
      "Enter third number.3\n",
      "Sum of three numbers: 6.0\n"
     ]
    }
   ],
   "source": [
    "## Write a python program to input three numbers and find their sum.\n",
    "\n",
    "a = float (input(\"Enter first number.\"))\n",
    "b = float (input(\"Enter second number.\"))\n",
    "c = float (input(\"Enter third number.\"))\n",
    "\n",
    "Sum = a + b + c\n",
    "\n",
    "print(\"Sum of three numbers:\", Sum)"
   ]
  },
  {
   "cell_type": "code",
   "execution_count": 9,
   "id": "7e2c9229",
   "metadata": {},
   "outputs": [
    {
     "name": "stdout",
     "output_type": "stream",
     "text": [
      "Enter radius of a circle2\n",
      "Area of circle is: 12.56\n"
     ]
    }
   ],
   "source": [
    "## Write a python program to print the area of circle. Take radius of circle as an input form the user.\n",
    "\n",
    "radius = float(input(\"Enter radius of a circle\"))\n",
    "pie = 3.14\n",
    "\n",
    "Area_of_circle = pie * radius ** 2\n",
    "\n",
    "print(\"Area of circle is:\", Area_of_circle)\n"
   ]
  },
  {
   "cell_type": "code",
   "execution_count": null,
   "id": "9623baaf",
   "metadata": {},
   "outputs": [],
   "source": []
  }
 ],
 "metadata": {
  "kernelspec": {
   "display_name": "Python 3 (ipykernel)",
   "language": "python",
   "name": "python3"
  },
  "language_info": {
   "codemirror_mode": {
    "name": "ipython",
    "version": 3
   },
   "file_extension": ".py",
   "mimetype": "text/x-python",
   "name": "python",
   "nbconvert_exporter": "python",
   "pygments_lexer": "ipython3",
   "version": "3.11.4"
  }
 },
 "nbformat": 4,
 "nbformat_minor": 5
}
